{
  "nbformat": 4,
  "nbformat_minor": 0,
  "metadata": {
    "colab": {
      "provenance": [],
      "include_colab_link": true
    },
    "kernelspec": {
      "name": "python3",
      "display_name": "Python 3"
    },
    "language_info": {
      "name": "python"
    }
  },
  "cells": [
    {
      "cell_type": "markdown",
      "metadata": {
        "id": "view-in-github",
        "colab_type": "text"
      },
      "source": [
        "<a href=\"https://colab.research.google.com/github/Rekoroka/scanner/blob/main/scanner.ipynb\" target=\"_parent\"><img src=\"https://colab.research.google.com/assets/colab-badge.svg\" alt=\"Open In Colab\"/></a>"
      ]
    },
    {
      "cell_type": "code",
      "source": [],
      "metadata": {
        "id": "xlAuYU4hjGnx"
      },
      "execution_count": null,
      "outputs": []
    },
    {
      "cell_type": "code",
      "source": [
        "%%writefile scanner.cpp\n",
        "#include <iostream>\n",
        "#include <fstream>\n",
        "#include <string>\n",
        "#include <unordered_set>\n",
        "#include <cctype>\n",
        "#include <iomanip>\n",
        "using namespace std;\n",
        "\n",
        "unordered_set<string> keywords = {\n",
        "    \"int\", \"float\", \"double\", \"if\", \"else\", \"for\", \"while\", \"return\", \"char\", \"void\"\n",
        "};\n",
        "\n",
        "unordered_set<char> operatorsList = {'+', '-', '*', '/', '=', '<', '>', '!'};\n",
        "unordered_set<char> specialChars = {'(', ')', '{', '}', ';', ',', '[', ']', '\"'};\n",
        "\n",
        "bool isKeyword(const string& s) {\n",
        "    return keywords.count(s);\n",
        "}\n",
        "\n",
        "bool isIdentifier(const string& s) {\n",
        "    if (!isalpha(s[0]) && s[0] != '_') return false;\n",
        "    for (char c : s) {\n",
        "        if (!isalnum(c) && c != '_') return false;\n",
        "    }\n",
        "    return true;\n",
        "}\n",
        "\n",
        "int main() {\n",
        "    ifstream file(\"input.txt\");\n",
        "    if (!file.is_open()) {\n",
        "        cout << \"Error:Cannot open input.txt\\n\";\n",
        "        return 1;\n",
        "    }\n",
        "\n",
        "    string code((istreambuf_iterator<char>(file)), istreambuf_iterator<char>());\n",
        "    string token = \"\";\n",
        "\n",
        "    cout << left << setw(25) << \"Token\" << setw(25) << \"Type\" << \"\\n\";\n",
        "    cout << \"--------------------------------------\\n\";\n",
        "\n",
        "    for (size_t i = 0; i < code.size(); i++) {\n",
        "        char c = code[i];\n",
        "\n",
        "        if (isspace(c)) continue;\n",
        "\n",
        "        //single line comments (//)\n",
        "        if (c == '/' && i + 1 < code.size() && code[i + 1] == '/') {\n",
        "            string comment = \"//\";\n",
        "            i += 2;\n",
        "            while (i < code.size() && code[i] != '\\n') {\n",
        "                comment += code[i++];\n",
        "            }\n",
        "            cout << left << setw(25) << comment << setw(25) << \"Comment\" << \"\\n\";\n",
        "            continue;\n",
        "        }\n",
        "\n",
        "        //block comments (/* ... */)\n",
        "        if (c == '/' && i + 1 < code.size() && code[i + 1] == '*') {\n",
        "            string comment = \"/*\";\n",
        "            i += 2;\n",
        "            while (i + 1 < code.size() && !(code[i] == '*' && code[i + 1] == '/')) {\n",
        "                comment += code[i++];\n",
        "            }\n",
        "            comment += \"*/\";\n",
        "            i += 1;\n",
        "            cout << left << setw(25) << comment << setw(25) << \"Comment\" << \"\\n\";\n",
        "            continue;\n",
        "        }\n",
        "\n",
        "        //Identifiers & Keywords\n",
        "        if (isalpha(c) || c == '_') {\n",
        "            token = \"\";\n",
        "            while (i < code.size() && (isalnum(code[i]) || code[i] == '_'))\n",
        "                token += code[i++];\n",
        "            i--;\n",
        "            if (isKeyword(token))\n",
        "                cout << left << setw(25) << token << setw(25) << \"Keyword\" << \"\\n\";\n",
        "            else\n",
        "                cout << left << setw(25) << token << setw(25) << \"Identifier\" << \"\\n\";\n",
        "            continue;\n",
        "        }\n",
        "\n",
        "        //Numbers\n",
        "        else if (isdigit(c)) {\n",
        "            token = \"\";\n",
        "            bool hasDot = false;\n",
        "            while (i < code.size() &&\n",
        "                  (isdigit(code[i]) ||\n",
        "                   (code[i] == '.' && !hasDot) ||\n",
        "                   (tolower(code[i]) == 'e') ||\n",
        "                   ((code[i] == '+' || code[i] == '-') && i > 0 && (tolower(code[i - 1]) == 'e')))) {\n",
        "                if (code[i] == '.') hasDot = true;\n",
        "                token += code[i++];\n",
        "            }\n",
        "            i--;\n",
        "            cout << left << setw(25) << token << setw(25) << \"Numeric Constant\" << \"\\n\";\n",
        "            continue;\n",
        "        }\n",
        "\n",
        "        //Operators\n",
        "        else if (operatorsList.count(c)) {\n",
        "            string op(1, c);\n",
        "            if (i + 1 < code.size()) {\n",
        "                string two = op + code[i + 1];\n",
        "                if (two == \"==\" || two == \"<=\" || two == \">=\" || two == \"!=\" || two == \"++\" || two == \"--\") {\n",
        "                    op = two;\n",
        "                    i++;\n",
        "                }\n",
        "            }\n",
        "            cout << left << setw(25) << op << setw(25) << \"Operator\" << \"\\n\";\n",
        "            continue;\n",
        "        }\n",
        "\n",
        "        //Special Characters\n",
        "        else if (specialChars.count(c)) {\n",
        "            cout << left << setw(25) << c << setw(25) << \"Special Character\" << \"\\n\";\n",
        "            continue;\n",
        "        }\n",
        "    }\n",
        "\n",
        "    return 0;\n",
        "}\n"
      ],
      "metadata": {
        "colab": {
          "base_uri": "https://localhost:8080/"
        },
        "id": "VFsG2RFPjGyz",
        "outputId": "e5f6b468-a301-4b1a-ccea-8ce729886cac"
      },
      "execution_count": 50,
      "outputs": [
        {
          "output_type": "stream",
          "name": "stdout",
          "text": [
            "Overwriting scanner.cpp\n"
          ]
        }
      ]
    },
    {
      "cell_type": "code",
      "source": [
        "%%writefile input.txt\n",
        "int main() {\n",
        "    int x,y;\n",
        "    // This is a single-line comment\n",
        "    if (x == 42) {\n",
        "        /* This is\n",
        "           a block\n",
        "           comment */\n",
        "        x = x-3;\n",
        "    } else {\n",
        "        y = 3.1; // Another comment\n",
        "    }\n",
        "    return 0;\n",
        "}\n"
      ],
      "metadata": {
        "colab": {
          "base_uri": "https://localhost:8080/"
        },
        "id": "IajhBMIblJoq",
        "outputId": "568dfd18-aae0-4305-e137-b8422e11915f"
      },
      "execution_count": 51,
      "outputs": [
        {
          "output_type": "stream",
          "name": "stdout",
          "text": [
            "Overwriting input.txt\n"
          ]
        }
      ]
    },
    {
      "cell_type": "code",
      "source": [
        "!g++ scanner.cpp -o scanner\n",
        "!./scanner\n"
      ],
      "metadata": {
        "id": "8WyGgJSClMot",
        "outputId": "10fbddda-e5c0-45fe-e55b-ff4fae15c0b7",
        "colab": {
          "base_uri": "https://localhost:8080/"
        }
      },
      "execution_count": 52,
      "outputs": [
        {
          "output_type": "stream",
          "name": "stdout",
          "text": [
            "Token                    Type                     \n",
            "--------------------------------------\n",
            "int                      Keyword                  \n",
            "main                     Identifier               \n",
            "(                        Special Character        \n",
            ")                        Special Character        \n",
            "{                        Special Character        \n",
            "int                      Keyword                  \n",
            "x                        Identifier               \n",
            ",                        Special Character        \n",
            "y                        Identifier               \n",
            ";                        Special Character        \n",
            "// This is a single-line commentComment                  \n",
            "if                       Keyword                  \n",
            "(                        Special Character        \n",
            "x                        Identifier               \n",
            "==                       Operator                 \n",
            "42                       Numeric Constant         \n",
            ")                        Special Character        \n",
            "{                        Special Character        \n",
            "/* This is\n",
            "           a block\n",
            "           comment */Comment                  \n",
            "x                        Identifier               \n",
            "=                        Operator                 \n",
            "x                        Identifier               \n",
            "-                        Operator                 \n",
            "3                        Numeric Constant         \n",
            ";                        Special Character        \n",
            "}                        Special Character        \n",
            "else                     Keyword                  \n",
            "{                        Special Character        \n",
            "y                        Identifier               \n",
            "=                        Operator                 \n",
            "3.1                      Numeric Constant         \n",
            ";                        Special Character        \n",
            "// Another comment       Comment                  \n",
            "}                        Special Character        \n",
            "return                   Keyword                  \n",
            "0                        Numeric Constant         \n",
            ";                        Special Character        \n",
            "}                        Special Character        \n"
          ]
        }
      ]
    }
  ]
}